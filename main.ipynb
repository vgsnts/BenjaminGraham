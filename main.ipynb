{
 "cells": [
  {
   "attachments": {},
   "cell_type": "markdown",
   "metadata": {},
   "source": [
    "### Instalando a biblioteca Fundamentus"
   ]
  },
  {
   "cell_type": "code",
   "execution_count": 1,
   "metadata": {},
   "outputs": [],
   "source": [
    "#!pip install fundamentus"
   ]
  },
  {
   "attachments": {},
   "cell_type": "markdown",
   "metadata": {},
   "source": [
    "### Importando as bibliotecas necessárias"
   ]
  },
  {
   "cell_type": "code",
   "execution_count": 2,
   "metadata": {},
   "outputs": [
    {
     "name": "stderr",
     "output_type": "stream",
     "text": [
      "2023-03-19 14:46:18,055 [logging.log_init] INFO: LOGLEVEL=INFO\n"
     ]
    }
   ],
   "source": [
    "import fundamentus\n",
    "import pandas as pd\n",
    "import requests_cache\n",
    "import time, logging\n",
    "import matplotlib.pyplot as plt\n",
    "import seaborn"
   ]
  },
  {
   "attachments": {},
   "cell_type": "markdown",
   "metadata": {},
   "source": [
    "### Atribuindo valor a taxa de juros atual (Selic) e colocando ativos que estão descontados conforme o metodo de Joel Greenblatt"
   ]
  },
  {
   "cell_type": "code",
   "execution_count": 3,
   "metadata": {},
   "outputs": [],
   "source": [
    "Selic = 13.75\n",
    "ativos = ['ABEV3', 'ARZZ3', 'BAZA3', 'BBAS3', 'BBDC3', 'BEEF3', 'BPAC11', 'BRAP3',\n",
    "          'BRKM5', 'BRSR6', 'CCRO3', 'CGRA4', 'CMIG4', 'COCE5', 'CPFE3', 'CSNA3',\n",
    "          'CSUD3', 'CXSE3', 'DEXP3', 'ECOR3', 'ELET3', 'ENGI4', 'EQTL3', 'ETER3',\n",
    "          'EUCA4', 'FESA4', 'FLRY3', 'FRAS3', 'GGBR3', 'GOAU3', 'HYPE3', 'ITSA3',\n",
    "          'ITUB3', 'JBSS3', 'KEPL3', 'KLBN3', 'LEVE3', 'LREN3', 'LWSA3', 'MRFG3',\n",
    "          'MYPK3', 'NEOE3', 'ODPV3', 'PETR3', 'POSI3', 'PRIO3', 'PTBL3', 'QUAL3',\n",
    "          'RADL3', 'RANI3', 'RAPT4', 'ROMI3', 'SBSP3', 'SHOW3', 'SHUL4', 'SLCE3',\n",
    "          'SQIA3', 'STBP3', 'SUZB3', 'TAEE3', 'TASA3', 'TGMA3', 'TOTS3', 'TPIS3',\n",
    "          'TRPL4', 'TUPY3', 'UNIP3', 'VALE3', 'VLID3', 'VULC3', 'WEGE3', 'WIZC3']\n"
   ]
  },
  {
   "attachments": {},
   "cell_type": "markdown",
   "metadata": {},
   "source": [
    "### Criando uma lista vazia das informações dos ativos em linha"
   ]
  },
  {
   "cell_type": "code",
   "execution_count": 4,
   "metadata": {},
   "outputs": [],
   "source": [
    "rows = []"
   ]
  },
  {
   "attachments": {},
   "cell_type": "markdown",
   "metadata": {},
   "source": [
    "###  Verificando se existe as informações dos ativos dentro do site Fundamentus\n",
    "\n",
    "- Caso exista:\n",
    "Coloque as informações dentro da lista vazia *rows\n",
    "\n",
    "- Caso não exista:\n",
    "Exiba a mensagem que o ativo não foi encontrado."
   ]
  },
  {
   "cell_type": "code",
   "execution_count": 5,
   "metadata": {},
   "outputs": [
    {
     "name": "stderr",
     "output_type": "stream",
     "text": [
      "2023-03-19 14:46:18,893 [detalhes.get_papel] INFO: detalhes: call: get..._papel()\n",
      "2023-03-19 14:46:20,216 [detalhes.get_papel] INFO: detalhes: call: get..._papel()\n",
      "2023-03-19 14:46:21,435 [detalhes.get_papel] INFO: detalhes: call: get..._papel()\n",
      "2023-03-19 14:46:22,626 [detalhes.get_papel] INFO: detalhes: call: get..._papel()\n",
      "2023-03-19 14:46:23,888 [detalhes.get_papel] INFO: detalhes: call: get..._papel()\n",
      "2023-03-19 14:46:25,088 [detalhes.get_papel] INFO: detalhes: call: get..._papel()\n",
      "2023-03-19 14:46:26,370 [detalhes.get_papel] INFO: detalhes: call: get..._papel()\n",
      "2023-03-19 14:46:27,403 [detalhes.get_papel] INFO: detalhes: call: get..._papel()\n",
      "2023-03-19 14:46:28,618 [detalhes.get_papel] INFO: detalhes: call: get..._papel()\n",
      "2023-03-19 14:46:29,947 [detalhes.get_papel] INFO: detalhes: call: get..._papel()\n",
      "2023-03-19 14:46:31,205 [detalhes.get_papel] INFO: detalhes: call: get..._papel()\n",
      "2023-03-19 14:46:32,329 [detalhes.get_papel] INFO: detalhes: call: get..._papel()\n",
      "2023-03-19 14:46:33,447 [detalhes.get_papel] INFO: detalhes: call: get..._papel()\n",
      "2023-03-19 14:46:34,556 [detalhes.get_papel] INFO: detalhes: call: get..._papel()\n",
      "2023-03-19 14:46:35,691 [detalhes.get_papel] INFO: detalhes: call: get..._papel()\n",
      "2023-03-19 14:46:36,832 [detalhes.get_papel] INFO: detalhes: call: get..._papel()\n",
      "2023-03-19 14:46:38,002 [detalhes.get_papel] INFO: detalhes: call: get..._papel()\n",
      "2023-03-19 14:46:39,036 [detalhes.get_papel] INFO: detalhes: call: get..._papel()\n",
      "2023-03-19 14:46:40,220 [detalhes.get_papel] INFO: detalhes: call: get..._papel()\n",
      "2023-03-19 14:46:41,382 [detalhes.get_papel] INFO: detalhes: call: get..._papel()\n",
      "2023-03-19 14:46:42,611 [detalhes.get_papel] INFO: detalhes: call: get..._papel()\n",
      "2023-03-19 14:46:43,814 [detalhes.get_papel] INFO: detalhes: call: get..._papel()\n",
      "2023-03-19 14:46:44,867 [detalhes.get_papel] INFO: detalhes: call: get..._papel()\n",
      "2023-03-19 14:46:46,060 [detalhes.get_papel] INFO: detalhes: call: get..._papel()\n",
      "2023-03-19 14:46:47,174 [detalhes.get_papel] INFO: detalhes: call: get..._papel()\n",
      "2023-03-19 14:46:48,307 [detalhes.get_papel] INFO: detalhes: call: get..._papel()\n",
      "2023-03-19 14:46:49,591 [detalhes.get_papel] INFO: detalhes: call: get..._papel()\n",
      "2023-03-19 14:46:50,909 [detalhes.get_papel] INFO: detalhes: call: get..._papel()\n",
      "2023-03-19 14:46:52,119 [detalhes.get_papel] INFO: detalhes: call: get..._papel()\n",
      "2023-03-19 14:46:53,332 [detalhes.get_papel] INFO: detalhes: call: get..._papel()\n",
      "2023-03-19 14:46:54,536 [detalhes.get_papel] INFO: detalhes: call: get..._papel()\n",
      "2023-03-19 14:46:55,741 [detalhes.get_papel] INFO: detalhes: call: get..._papel()\n",
      "2023-03-19 14:46:56,861 [detalhes.get_papel] INFO: detalhes: call: get..._papel()\n",
      "2023-03-19 14:46:58,044 [detalhes.get_papel] INFO: detalhes: call: get..._papel()\n",
      "2023-03-19 14:46:59,126 [detalhes.get_papel] INFO: detalhes: call: get..._papel()\n",
      "2023-03-19 14:47:00,271 [detalhes.get_papel] INFO: detalhes: call: get..._papel()\n",
      "2023-03-19 14:47:01,475 [detalhes.get_papel] INFO: detalhes: call: get..._papel()\n",
      "2023-03-19 14:47:02,610 [detalhes.get_papel] INFO: detalhes: call: get..._papel()\n",
      "2023-03-19 14:47:03,749 [detalhes.get_papel] INFO: detalhes: call: get..._papel()\n",
      "2023-03-19 14:47:04,868 [detalhes.get_papel] INFO: detalhes: call: get..._papel()\n",
      "2023-03-19 14:47:05,981 [detalhes.get_papel] INFO: detalhes: call: get..._papel()\n",
      "2023-03-19 14:47:07,129 [detalhes.get_papel] INFO: detalhes: call: get..._papel()\n",
      "2023-03-19 14:47:08,068 [detalhes.get_papel] INFO: detalhes: call: get..._papel()\n",
      "2023-03-19 14:47:09,196 [detalhes.get_papel] INFO: detalhes: call: get..._papel()\n",
      "2023-03-19 14:47:10,320 [detalhes.get_papel] INFO: detalhes: call: get..._papel()\n",
      "2023-03-19 14:47:11,460 [detalhes.get_papel] INFO: detalhes: call: get..._papel()\n",
      "2023-03-19 14:47:12,707 [detalhes.get_papel] INFO: detalhes: call: get..._papel()\n",
      "2023-03-19 14:47:13,813 [detalhes.get_papel] INFO: detalhes: call: get..._papel()\n",
      "2023-03-19 14:47:15,012 [detalhes.get_papel] INFO: detalhes: call: get..._papel()\n",
      "2023-03-19 14:47:16,232 [detalhes.get_papel] INFO: detalhes: call: get..._papel()\n",
      "2023-03-19 14:47:17,539 [detalhes.get_papel] INFO: detalhes: call: get..._papel()\n",
      "2023-03-19 14:47:18,727 [detalhes.get_papel] INFO: detalhes: call: get..._papel()\n",
      "2023-03-19 14:47:19,877 [detalhes.get_papel] INFO: detalhes: call: get..._papel()\n",
      "2023-03-19 14:47:20,844 [detalhes.get_papel] INFO: detalhes: call: get..._papel()\n",
      "2023-03-19 14:47:21,939 [detalhes.get_papel] INFO: detalhes: call: get..._papel()\n",
      "2023-03-19 14:47:23,163 [detalhes.get_papel] INFO: detalhes: call: get..._papel()\n",
      "2023-03-19 14:47:24,283 [detalhes.get_papel] INFO: detalhes: call: get..._papel()\n",
      "2023-03-19 14:47:25,458 [detalhes.get_papel] INFO: detalhes: call: get..._papel()\n",
      "2023-03-19 14:47:26,656 [detalhes.get_papel] INFO: detalhes: call: get..._papel()\n",
      "2023-03-19 14:47:27,875 [detalhes.get_papel] INFO: detalhes: call: get..._papel()\n",
      "2023-03-19 14:47:29,052 [detalhes.get_papel] INFO: detalhes: call: get..._papel()\n",
      "2023-03-19 14:47:30,183 [detalhes.get_papel] INFO: detalhes: call: get..._papel()\n",
      "2023-03-19 14:47:31,286 [detalhes.get_papel] INFO: detalhes: call: get..._papel()\n",
      "2023-03-19 14:47:32,479 [detalhes.get_papel] INFO: detalhes: call: get..._papel()\n",
      "2023-03-19 14:47:33,704 [detalhes.get_papel] INFO: detalhes: call: get..._papel()\n",
      "2023-03-19 14:47:34,837 [detalhes.get_papel] INFO: detalhes: call: get..._papel()\n",
      "2023-03-19 14:47:36,053 [detalhes.get_papel] INFO: detalhes: call: get..._papel()\n",
      "2023-03-19 14:47:37,267 [detalhes.get_papel] INFO: detalhes: call: get..._papel()\n",
      "2023-03-19 14:47:38,536 [detalhes.get_papel] INFO: detalhes: call: get..._papel()\n",
      "2023-03-19 14:47:39,860 [detalhes.get_papel] INFO: detalhes: call: get..._papel()\n",
      "2023-03-19 14:47:41,091 [detalhes.get_papel] INFO: detalhes: call: get..._papel()\n",
      "2023-03-19 14:47:42,292 [detalhes.get_papel] INFO: detalhes: call: get..._papel()\n"
     ]
    }
   ],
   "source": [
    "for ativo in ativos:\n",
    "    try:\n",
    "        df = fundamentus.get_papel(ativo)\n",
    "        rows.append(df[['Papel', 'Cotacao', 'LPA', 'ROE', 'Div_Yield']].values[0])\n",
    "    except:\n",
    "        print(f'Ativo {ativo} não encontrado')"
   ]
  },
  {
   "attachments": {},
   "cell_type": "markdown",
   "metadata": {},
   "source": [
    "### Criando um pandas dataframe para o resultado da consulta"
   ]
  },
  {
   "cell_type": "code",
   "execution_count": 6,
   "metadata": {},
   "outputs": [],
   "source": [
    "df = pd.DataFrame(rows, columns=['Papel', 'Cotacao', 'LPA', 'ROE', 'Div_Yield'])"
   ]
  },
  {
   "attachments": {},
   "cell_type": "markdown",
   "metadata": {},
   "source": [
    "### Caso necessário, salve as informações do dataframe em um arquivo Excel"
   ]
  },
  {
   "cell_type": "code",
   "execution_count": 7,
   "metadata": {},
   "outputs": [],
   "source": [
    "#df.to_excel('valor_justo.xlsx')"
   ]
  },
  {
   "attachments": {},
   "cell_type": "markdown",
   "metadata": {},
   "source": [
    "### Exibindo o dataframe"
   ]
  },
  {
   "cell_type": "code",
   "execution_count": 8,
   "metadata": {},
   "outputs": [
    {
     "data": {
      "text/html": [
       "<div>\n",
       "<style scoped>\n",
       "    .dataframe tbody tr th:only-of-type {\n",
       "        vertical-align: middle;\n",
       "    }\n",
       "\n",
       "    .dataframe tbody tr th {\n",
       "        vertical-align: top;\n",
       "    }\n",
       "\n",
       "    .dataframe thead th {\n",
       "        text-align: right;\n",
       "    }\n",
       "</style>\n",
       "<table border=\"1\" class=\"dataframe\">\n",
       "  <thead>\n",
       "    <tr style=\"text-align: right;\">\n",
       "      <th></th>\n",
       "      <th>Papel</th>\n",
       "      <th>Cotacao</th>\n",
       "      <th>LPA</th>\n",
       "      <th>ROE</th>\n",
       "      <th>Div_Yield</th>\n",
       "    </tr>\n",
       "  </thead>\n",
       "  <tbody>\n",
       "    <tr>\n",
       "      <th>0</th>\n",
       "      <td>ABEV3</td>\n",
       "      <td>14.22</td>\n",
       "      <td>092</td>\n",
       "      <td>17.6%</td>\n",
       "      <td>5.4%</td>\n",
       "    </tr>\n",
       "    <tr>\n",
       "      <th>1</th>\n",
       "      <td>ARZZ3</td>\n",
       "      <td>66.78</td>\n",
       "      <td>385</td>\n",
       "      <td>16.0%</td>\n",
       "      <td>2.7%</td>\n",
       "    </tr>\n",
       "    <tr>\n",
       "      <th>2</th>\n",
       "      <td>BAZA3</td>\n",
       "      <td>59.91</td>\n",
       "      <td>2034</td>\n",
       "      <td>23.4%</td>\n",
       "      <td>6.0%</td>\n",
       "    </tr>\n",
       "    <tr>\n",
       "      <th>3</th>\n",
       "      <td>BBAS3</td>\n",
       "      <td>37.30</td>\n",
       "      <td>1075</td>\n",
       "      <td>20.1%</td>\n",
       "      <td>11.5%</td>\n",
       "    </tr>\n",
       "    <tr>\n",
       "      <th>4</th>\n",
       "      <td>BBDC3</td>\n",
       "      <td>11.66</td>\n",
       "      <td>195</td>\n",
       "      <td>13.4%</td>\n",
       "      <td>7.9%</td>\n",
       "    </tr>\n",
       "    <tr>\n",
       "      <th>...</th>\n",
       "      <td>...</td>\n",
       "      <td>...</td>\n",
       "      <td>...</td>\n",
       "      <td>...</td>\n",
       "      <td>...</td>\n",
       "    </tr>\n",
       "    <tr>\n",
       "      <th>67</th>\n",
       "      <td>VALE3</td>\n",
       "      <td>82.73</td>\n",
       "      <td>2113</td>\n",
       "      <td>51.3%</td>\n",
       "      <td>7.2%</td>\n",
       "    </tr>\n",
       "    <tr>\n",
       "      <th>68</th>\n",
       "      <td>VLID3</td>\n",
       "      <td>9.39</td>\n",
       "      <td>030</td>\n",
       "      <td>2.0%</td>\n",
       "      <td>2.8%</td>\n",
       "    </tr>\n",
       "    <tr>\n",
       "      <th>69</th>\n",
       "      <td>VULC3</td>\n",
       "      <td>12.41</td>\n",
       "      <td>191</td>\n",
       "      <td>27.5%</td>\n",
       "      <td>3.0%</td>\n",
       "    </tr>\n",
       "    <tr>\n",
       "      <th>70</th>\n",
       "      <td>WEGE3</td>\n",
       "      <td>39.87</td>\n",
       "      <td>100</td>\n",
       "      <td>28.4%</td>\n",
       "      <td>1.3%</td>\n",
       "    </tr>\n",
       "    <tr>\n",
       "      <th>71</th>\n",
       "      <td>WIZC3</td>\n",
       "      <td>5.83</td>\n",
       "      <td>084</td>\n",
       "      <td>35.6%</td>\n",
       "      <td>10.1%</td>\n",
       "    </tr>\n",
       "  </tbody>\n",
       "</table>\n",
       "<p>72 rows × 5 columns</p>\n",
       "</div>"
      ],
      "text/plain": [
       "    Papel Cotacao   LPA    ROE Div_Yield\n",
       "0   ABEV3   14.22   092  17.6%      5.4%\n",
       "1   ARZZ3   66.78   385  16.0%      2.7%\n",
       "2   BAZA3   59.91  2034  23.4%      6.0%\n",
       "3   BBAS3   37.30  1075  20.1%     11.5%\n",
       "4   BBDC3   11.66   195  13.4%      7.9%\n",
       "..    ...     ...   ...    ...       ...\n",
       "67  VALE3   82.73  2113  51.3%      7.2%\n",
       "68  VLID3    9.39   030   2.0%      2.8%\n",
       "69  VULC3   12.41   191  27.5%      3.0%\n",
       "70  WEGE3   39.87   100  28.4%      1.3%\n",
       "71  WIZC3    5.83   084  35.6%     10.1%\n",
       "\n",
       "[72 rows x 5 columns]"
      ]
     },
     "execution_count": 8,
     "metadata": {},
     "output_type": "execute_result"
    }
   ],
   "source": [
    "df"
   ]
  },
  {
   "attachments": {},
   "cell_type": "markdown",
   "metadata": {},
   "source": [
    "### Verificando o tipo de item estão em cada coluna do dataframe"
   ]
  },
  {
   "cell_type": "code",
   "execution_count": 9,
   "metadata": {},
   "outputs": [
    {
     "data": {
      "text/plain": [
       "Papel        object\n",
       "Cotacao      object\n",
       "LPA          object\n",
       "ROE          object\n",
       "Div_Yield    object\n",
       "dtype: object"
      ]
     },
     "execution_count": 9,
     "metadata": {},
     "output_type": "execute_result"
    }
   ],
   "source": [
    "df.dtypes"
   ]
  },
  {
   "attachments": {},
   "cell_type": "markdown",
   "metadata": {},
   "source": [
    "Veja que todos estão como *objects* - devemos transforma-los em float"
   ]
  },
  {
   "attachments": {},
   "cell_type": "markdown",
   "metadata": {},
   "source": [
    "### Transformando a coluna LPA (Lucro por Ação) em um valor do tipo *float* e divindo por 100"
   ]
  },
  {
   "cell_type": "code",
   "execution_count": 10,
   "metadata": {},
   "outputs": [],
   "source": [
    "df.LPA = df.LPA.astype(float)/100"
   ]
  },
  {
   "attachments": {},
   "cell_type": "markdown",
   "metadata": {},
   "source": [
    "### Removendo os valores de LPA negativos, visto que se o Lucro Por Ação está negativo significa que a empresa teve prejuízo no período analisado. \n",
    "#### Isso pode indicar que a empresa está passando por dificuldades financeiras ou teve um desempenho ruim no mercado. "
   ]
  },
  {
   "cell_type": "code",
   "execution_count": 11,
   "metadata": {},
   "outputs": [],
   "source": [
    "df = df.loc[df['LPA'] > 0]"
   ]
  },
  {
   "attachments": {},
   "cell_type": "markdown",
   "metadata": {},
   "source": [
    "### Legal, agora vamos exibir nosso dataframe"
   ]
  },
  {
   "cell_type": "code",
   "execution_count": 12,
   "metadata": {},
   "outputs": [
    {
     "data": {
      "text/html": [
       "<div>\n",
       "<style scoped>\n",
       "    .dataframe tbody tr th:only-of-type {\n",
       "        vertical-align: middle;\n",
       "    }\n",
       "\n",
       "    .dataframe tbody tr th {\n",
       "        vertical-align: top;\n",
       "    }\n",
       "\n",
       "    .dataframe thead th {\n",
       "        text-align: right;\n",
       "    }\n",
       "</style>\n",
       "<table border=\"1\" class=\"dataframe\">\n",
       "  <thead>\n",
       "    <tr style=\"text-align: right;\">\n",
       "      <th></th>\n",
       "      <th>Papel</th>\n",
       "      <th>Cotacao</th>\n",
       "      <th>LPA</th>\n",
       "      <th>ROE</th>\n",
       "      <th>Div_Yield</th>\n",
       "    </tr>\n",
       "  </thead>\n",
       "  <tbody>\n",
       "    <tr>\n",
       "      <th>0</th>\n",
       "      <td>ABEV3</td>\n",
       "      <td>14.22</td>\n",
       "      <td>0.92</td>\n",
       "      <td>17.6%</td>\n",
       "      <td>5.4%</td>\n",
       "    </tr>\n",
       "    <tr>\n",
       "      <th>1</th>\n",
       "      <td>ARZZ3</td>\n",
       "      <td>66.78</td>\n",
       "      <td>3.85</td>\n",
       "      <td>16.0%</td>\n",
       "      <td>2.7%</td>\n",
       "    </tr>\n",
       "    <tr>\n",
       "      <th>2</th>\n",
       "      <td>BAZA3</td>\n",
       "      <td>59.91</td>\n",
       "      <td>20.34</td>\n",
       "      <td>23.4%</td>\n",
       "      <td>6.0%</td>\n",
       "    </tr>\n",
       "    <tr>\n",
       "      <th>3</th>\n",
       "      <td>BBAS3</td>\n",
       "      <td>37.30</td>\n",
       "      <td>10.75</td>\n",
       "      <td>20.1%</td>\n",
       "      <td>11.5%</td>\n",
       "    </tr>\n",
       "    <tr>\n",
       "      <th>4</th>\n",
       "      <td>BBDC3</td>\n",
       "      <td>11.66</td>\n",
       "      <td>1.95</td>\n",
       "      <td>13.4%</td>\n",
       "      <td>7.9%</td>\n",
       "    </tr>\n",
       "    <tr>\n",
       "      <th>...</th>\n",
       "      <td>...</td>\n",
       "      <td>...</td>\n",
       "      <td>...</td>\n",
       "      <td>...</td>\n",
       "      <td>...</td>\n",
       "    </tr>\n",
       "    <tr>\n",
       "      <th>67</th>\n",
       "      <td>VALE3</td>\n",
       "      <td>82.73</td>\n",
       "      <td>21.13</td>\n",
       "      <td>51.3%</td>\n",
       "      <td>7.2%</td>\n",
       "    </tr>\n",
       "    <tr>\n",
       "      <th>68</th>\n",
       "      <td>VLID3</td>\n",
       "      <td>9.39</td>\n",
       "      <td>0.30</td>\n",
       "      <td>2.0%</td>\n",
       "      <td>2.8%</td>\n",
       "    </tr>\n",
       "    <tr>\n",
       "      <th>69</th>\n",
       "      <td>VULC3</td>\n",
       "      <td>12.41</td>\n",
       "      <td>1.91</td>\n",
       "      <td>27.5%</td>\n",
       "      <td>3.0%</td>\n",
       "    </tr>\n",
       "    <tr>\n",
       "      <th>70</th>\n",
       "      <td>WEGE3</td>\n",
       "      <td>39.87</td>\n",
       "      <td>1.00</td>\n",
       "      <td>28.4%</td>\n",
       "      <td>1.3%</td>\n",
       "    </tr>\n",
       "    <tr>\n",
       "      <th>71</th>\n",
       "      <td>WIZC3</td>\n",
       "      <td>5.83</td>\n",
       "      <td>0.84</td>\n",
       "      <td>35.6%</td>\n",
       "      <td>10.1%</td>\n",
       "    </tr>\n",
       "  </tbody>\n",
       "</table>\n",
       "<p>70 rows × 5 columns</p>\n",
       "</div>"
      ],
      "text/plain": [
       "    Papel Cotacao    LPA    ROE Div_Yield\n",
       "0   ABEV3   14.22   0.92  17.6%      5.4%\n",
       "1   ARZZ3   66.78   3.85  16.0%      2.7%\n",
       "2   BAZA3   59.91  20.34  23.4%      6.0%\n",
       "3   BBAS3   37.30  10.75  20.1%     11.5%\n",
       "4   BBDC3   11.66   1.95  13.4%      7.9%\n",
       "..    ...     ...    ...    ...       ...\n",
       "67  VALE3   82.73  21.13  51.3%      7.2%\n",
       "68  VLID3    9.39   0.30   2.0%      2.8%\n",
       "69  VULC3   12.41   1.91  27.5%      3.0%\n",
       "70  WEGE3   39.87   1.00  28.4%      1.3%\n",
       "71  WIZC3    5.83   0.84  35.6%     10.1%\n",
       "\n",
       "[70 rows x 5 columns]"
      ]
     },
     "execution_count": 12,
     "metadata": {},
     "output_type": "execute_result"
    }
   ],
   "source": [
    "df"
   ]
  },
  {
   "attachments": {},
   "cell_type": "markdown",
   "metadata": {},
   "source": [
    "### Removendo o simbolo de % dos itens da colunas ROE E Div_Yield, transformando em *float* e divindo por 100"
   ]
  },
  {
   "cell_type": "code",
   "execution_count": 13,
   "metadata": {},
   "outputs": [
    {
     "name": "stderr",
     "output_type": "stream",
     "text": [
      "C:\\Users\\Administrator\\AppData\\Local\\Temp\\ipykernel_980\\2025229290.py:1: SettingWithCopyWarning: \n",
      "A value is trying to be set on a copy of a slice from a DataFrame.\n",
      "Try using .loc[row_indexer,col_indexer] = value instead\n",
      "\n",
      "See the caveats in the documentation: https://pandas.pydata.org/pandas-docs/stable/user_guide/indexing.html#returning-a-view-versus-a-copy\n",
      "  df.ROE = [float(i.replace('%', ''))/100 for i in df.ROE.values]\n",
      "C:\\Users\\Administrator\\AppData\\Local\\Temp\\ipykernel_980\\2025229290.py:2: SettingWithCopyWarning: \n",
      "A value is trying to be set on a copy of a slice from a DataFrame.\n",
      "Try using .loc[row_indexer,col_indexer] = value instead\n",
      "\n",
      "See the caveats in the documentation: https://pandas.pydata.org/pandas-docs/stable/user_guide/indexing.html#returning-a-view-versus-a-copy\n",
      "  df.Div_Yield = [float(i.replace('%', ''))/100 for i in df.Div_Yield.values]\n"
     ]
    }
   ],
   "source": [
    "df.ROE = [float(i.replace('%', ''))/100 for i in df.ROE.values]\n",
    "df.Div_Yield = [float(i.replace('%', ''))/100 for i in df.Div_Yield.values]"
   ]
  },
  {
   "attachments": {},
   "cell_type": "markdown",
   "metadata": {},
   "source": [
    "### Verificando o tipo de item que temos em nosso dataframe"
   ]
  },
  {
   "cell_type": "code",
   "execution_count": 14,
   "metadata": {},
   "outputs": [
    {
     "data": {
      "text/plain": [
       "Papel         object\n",
       "Cotacao       object\n",
       "LPA          float64\n",
       "ROE          float64\n",
       "Div_Yield    float64\n",
       "dtype: object"
      ]
     },
     "execution_count": 14,
     "metadata": {},
     "output_type": "execute_result"
    }
   ],
   "source": [
    "df.dtypes"
   ]
  },
  {
   "attachments": {},
   "cell_type": "markdown",
   "metadata": {},
   "source": [
    "### Criando uma coluna de Taxa de Crescimento de Lucro, onde:\n",
    "- #### Subtrai-se o valor de Dividend Yield por Lucro por Ação, onde temos o valor chamado de **Payout Financeiro¹**\n",
    "- #### Tendo o Payout, multiplica-se o valor pelo ROE da empresa\n",
    "\n",
    "##### ¹ Payout financeiro é a proporção do lucro líquido de uma empresa que é distribuído como dividendos aos acionistas. É uma métrica usada na análise fundamentalista para avaliar a política de dividendos da empresa. Um payout alto pode limitar a capacidade de reinvestir ou lidar com crises financeiras, enquanto um payout baixo pode indicar a retenção de lucros para financiar o crescimento futuro."
   ]
  },
  {
   "cell_type": "code",
   "execution_count": 15,
   "metadata": {},
   "outputs": [
    {
     "name": "stderr",
     "output_type": "stream",
     "text": [
      "C:\\Users\\Administrator\\AppData\\Local\\Temp\\ipykernel_980\\2648431125.py:1: SettingWithCopyWarning: \n",
      "A value is trying to be set on a copy of a slice from a DataFrame.\n",
      "Try using .loc[row_indexer,col_indexer] = value instead\n",
      "\n",
      "See the caveats in the documentation: https://pandas.pydata.org/pandas-docs/stable/user_guide/indexing.html#returning-a-view-versus-a-copy\n",
      "  df['Taxa de Crescimento de Lucro'] = (df['ROE'] * (1 - (df['Div_Yield'] - df['LPA'])))\n"
     ]
    }
   ],
   "source": [
    "df['Taxa de Crescimento de Lucro'] = (df['ROE'] * (1 - (df['Div_Yield'] - df['LPA'])))"
   ]
  },
  {
   "attachments": {},
   "cell_type": "markdown",
   "metadata": {},
   "source": [
    "### Dessa forma, temos a Taxa de Crescimento de Lucro, onde temos uma metrica de onde a empresa pode chegar."
   ]
  },
  {
   "attachments": {},
   "cell_type": "markdown",
   "metadata": {},
   "source": [
    "### Agora criaremos uma nova coluna chamada Preço Justo, onde aplicaremos de fato a formula de Benjamin Graham\n",
    "##### Ressaltando que:\n",
    "\n",
    "- ##### LPA (Lucro por Ação): que representa o lucro líquido de uma empresa dividido pelo número de ações em circulação;\n",
    "- ##### Selic: a taxa básica de juros do Brasil;\n",
    "- ##### ROE (Retorno sobre o Patrimônio Líquido): que mede a capacidade da empresa de gerar lucros a partir dos investimentos dos acionistas;\n",
    "- ##### Div_Yield: que é a relação entre os dividendos distribuídos pela empresa e o preço de mercado da ação."
   ]
  },
  {
   "cell_type": "code",
   "execution_count": 16,
   "metadata": {},
   "outputs": [
    {
     "name": "stderr",
     "output_type": "stream",
     "text": [
      "C:\\Users\\Administrator\\AppData\\Local\\Temp\\ipykernel_980\\38983926.py:1: SettingWithCopyWarning: \n",
      "A value is trying to be set on a copy of a slice from a DataFrame.\n",
      "Try using .loc[row_indexer,col_indexer] = value instead\n",
      "\n",
      "See the caveats in the documentation: https://pandas.pydata.org/pandas-docs/stable/user_guide/indexing.html#returning-a-view-versus-a-copy\n",
      "  df['Valor Justo'] = df['LPA'] * ((100 / Selic + 3)) + (2 * df['ROE'] * df['Div_Yield']) * (1 / 1.15)\n"
     ]
    }
   ],
   "source": [
    "df['Valor Justo'] = df['LPA'] * ((100 / Selic + 3)) + (2 * df['ROE'] * df['Div_Yield']) * (1 / 1.15)\n"
   ]
  },
  {
   "attachments": {},
   "cell_type": "markdown",
   "metadata": {},
   "source": [
    "### Exibindo o dataframe com o Valor Justo"
   ]
  },
  {
   "cell_type": "code",
   "execution_count": 17,
   "metadata": {},
   "outputs": [
    {
     "data": {
      "text/html": [
       "<div>\n",
       "<style scoped>\n",
       "    .dataframe tbody tr th:only-of-type {\n",
       "        vertical-align: middle;\n",
       "    }\n",
       "\n",
       "    .dataframe tbody tr th {\n",
       "        vertical-align: top;\n",
       "    }\n",
       "\n",
       "    .dataframe thead th {\n",
       "        text-align: right;\n",
       "    }\n",
       "</style>\n",
       "<table border=\"1\" class=\"dataframe\">\n",
       "  <thead>\n",
       "    <tr style=\"text-align: right;\">\n",
       "      <th></th>\n",
       "      <th>Papel</th>\n",
       "      <th>Cotacao</th>\n",
       "      <th>LPA</th>\n",
       "      <th>ROE</th>\n",
       "      <th>Div_Yield</th>\n",
       "      <th>Taxa de Crescimento de Lucro</th>\n",
       "      <th>Valor Justo</th>\n",
       "    </tr>\n",
       "  </thead>\n",
       "  <tbody>\n",
       "    <tr>\n",
       "      <th>0</th>\n",
       "      <td>ABEV3</td>\n",
       "      <td>14.22</td>\n",
       "      <td>0.92</td>\n",
       "      <td>0.176</td>\n",
       "      <td>0.054</td>\n",
       "      <td>0.328416</td>\n",
       "      <td>9.467438</td>\n",
       "    </tr>\n",
       "    <tr>\n",
       "      <th>1</th>\n",
       "      <td>ARZZ3</td>\n",
       "      <td>66.78</td>\n",
       "      <td>3.85</td>\n",
       "      <td>0.160</td>\n",
       "      <td>0.027</td>\n",
       "      <td>0.771680</td>\n",
       "      <td>39.557513</td>\n",
       "    </tr>\n",
       "    <tr>\n",
       "      <th>2</th>\n",
       "      <td>BAZA3</td>\n",
       "      <td>59.91</td>\n",
       "      <td>20.34</td>\n",
       "      <td>0.234</td>\n",
       "      <td>0.060</td>\n",
       "      <td>4.979520</td>\n",
       "      <td>208.971690</td>\n",
       "    </tr>\n",
       "    <tr>\n",
       "      <th>3</th>\n",
       "      <td>BBAS3</td>\n",
       "      <td>37.30</td>\n",
       "      <td>10.75</td>\n",
       "      <td>0.201</td>\n",
       "      <td>0.115</td>\n",
       "      <td>2.338635</td>\n",
       "      <td>110.472018</td>\n",
       "    </tr>\n",
       "    <tr>\n",
       "      <th>4</th>\n",
       "      <td>BBDC3</td>\n",
       "      <td>11.66</td>\n",
       "      <td>1.95</td>\n",
       "      <td>0.134</td>\n",
       "      <td>0.079</td>\n",
       "      <td>0.384714</td>\n",
       "      <td>20.050229</td>\n",
       "    </tr>\n",
       "    <tr>\n",
       "      <th>...</th>\n",
       "      <td>...</td>\n",
       "      <td>...</td>\n",
       "      <td>...</td>\n",
       "      <td>...</td>\n",
       "      <td>...</td>\n",
       "      <td>...</td>\n",
       "      <td>...</td>\n",
       "    </tr>\n",
       "    <tr>\n",
       "      <th>67</th>\n",
       "      <td>VALE3</td>\n",
       "      <td>82.73</td>\n",
       "      <td>21.13</td>\n",
       "      <td>0.513</td>\n",
       "      <td>0.072</td>\n",
       "      <td>11.315754</td>\n",
       "      <td>217.126964</td>\n",
       "    </tr>\n",
       "    <tr>\n",
       "      <th>68</th>\n",
       "      <td>VLID3</td>\n",
       "      <td>9.39</td>\n",
       "      <td>0.30</td>\n",
       "      <td>0.020</td>\n",
       "      <td>0.028</td>\n",
       "      <td>0.025440</td>\n",
       "      <td>3.082792</td>\n",
       "    </tr>\n",
       "    <tr>\n",
       "      <th>69</th>\n",
       "      <td>VULC3</td>\n",
       "      <td>12.41</td>\n",
       "      <td>1.91</td>\n",
       "      <td>0.275</td>\n",
       "      <td>0.030</td>\n",
       "      <td>0.792000</td>\n",
       "      <td>19.635257</td>\n",
       "    </tr>\n",
       "    <tr>\n",
       "      <th>70</th>\n",
       "      <td>WEGE3</td>\n",
       "      <td>39.87</td>\n",
       "      <td>1.00</td>\n",
       "      <td>0.284</td>\n",
       "      <td>0.013</td>\n",
       "      <td>0.564308</td>\n",
       "      <td>10.279148</td>\n",
       "    </tr>\n",
       "    <tr>\n",
       "      <th>71</th>\n",
       "      <td>WIZC3</td>\n",
       "      <td>5.83</td>\n",
       "      <td>0.84</td>\n",
       "      <td>0.356</td>\n",
       "      <td>0.101</td>\n",
       "      <td>0.619084</td>\n",
       "      <td>8.691623</td>\n",
       "    </tr>\n",
       "  </tbody>\n",
       "</table>\n",
       "<p>70 rows × 7 columns</p>\n",
       "</div>"
      ],
      "text/plain": [
       "    Papel Cotacao    LPA    ROE  Div_Yield  Taxa de Crescimento de Lucro  \\\n",
       "0   ABEV3   14.22   0.92  0.176      0.054                      0.328416   \n",
       "1   ARZZ3   66.78   3.85  0.160      0.027                      0.771680   \n",
       "2   BAZA3   59.91  20.34  0.234      0.060                      4.979520   \n",
       "3   BBAS3   37.30  10.75  0.201      0.115                      2.338635   \n",
       "4   BBDC3   11.66   1.95  0.134      0.079                      0.384714   \n",
       "..    ...     ...    ...    ...        ...                           ...   \n",
       "67  VALE3   82.73  21.13  0.513      0.072                     11.315754   \n",
       "68  VLID3    9.39   0.30  0.020      0.028                      0.025440   \n",
       "69  VULC3   12.41   1.91  0.275      0.030                      0.792000   \n",
       "70  WEGE3   39.87   1.00  0.284      0.013                      0.564308   \n",
       "71  WIZC3    5.83   0.84  0.356      0.101                      0.619084   \n",
       "\n",
       "    Valor Justo  \n",
       "0      9.467438  \n",
       "1     39.557513  \n",
       "2    208.971690  \n",
       "3    110.472018  \n",
       "4     20.050229  \n",
       "..          ...  \n",
       "67   217.126964  \n",
       "68     3.082792  \n",
       "69    19.635257  \n",
       "70    10.279148  \n",
       "71     8.691623  \n",
       "\n",
       "[70 rows x 7 columns]"
      ]
     },
     "execution_count": 17,
     "metadata": {},
     "output_type": "execute_result"
    }
   ],
   "source": [
    "df"
   ]
  },
  {
   "attachments": {},
   "cell_type": "markdown",
   "metadata": {},
   "source": [
    "#### Caso deseje, salve o arquivo em uma planilha de Excel"
   ]
  },
  {
   "cell_type": "code",
   "execution_count": 18,
   "metadata": {},
   "outputs": [],
   "source": [
    "#df.to_excel('planilha_consolidada.xlsx', sheet_name='valor_justo')"
   ]
  },
  {
   "attachments": {},
   "cell_type": "markdown",
   "metadata": {},
   "source": [
    "### Vamos utilizar o Seaborn para apresentar o estudo de correlação de nosso dataframe"
   ]
  },
  {
   "cell_type": "code",
   "execution_count": 23,
   "metadata": {},
   "outputs": [
    {
     "data": {
      "text/plain": [
       "<seaborn.axisgrid.PairGrid at 0x1d4b9ff1f50>"
      ]
     },
     "execution_count": 23,
     "metadata": {},
     "output_type": "execute_result"
    },
    {
     "data": {
      "image/png": "[encoded data removed]",
      "text/plain": [
       "<Figure size 1250x1250 with 30 Axes>"
      ]
     },
     "metadata": {},
     "output_type": "display_data"
    }
   ],
   "source": [
    "seaborn.pairplot(df)"
   ]
  },
  {
   "attachments": {},
   "cell_type": "markdown",
   "metadata": {},
   "source": [
    "Até a proxima, pessoal! "
   ]
  }
 ],
 "metadata": {
  "kernelspec": {
   "display_name": "Python 3",
   "language": "python",
   "name": "python3"
  },
  "language_info": {
   "codemirror_mode": {
    "name": "ipython",
    "version": 3
   },
   "file_extension": ".py",
   "mimetype": "text/x-python",
   "name": "python",
   "nbconvert_exporter": "python",
   "pygments_lexer": "ipython3",
   "version": "3.11.2"
  },
  "orig_nbformat": 4
 },
 "nbformat": 4,
 "nbformat_minor": 2
}
